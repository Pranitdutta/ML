{
 "cells": [
  {
   "attachments": {},
   "cell_type": "markdown",
   "metadata": {},
   "source": [
    "### Name :- Pranit Duta\n",
    "### QUESTION 2 "
   ]
  },
  {
   "cell_type": "code",
   "execution_count": 1,
   "metadata": {},
   "outputs": [],
   "source": [
    "import numpy as np\n",
    "import pandas as pd\n",
    "import matplotlib.pyplot as plt \n",
    "from scipy.stats import multivariate_normal as mvn"
   ]
  },
  {
   "cell_type": "code",
   "execution_count": 6,
   "metadata": {},
   "outputs": [],
   "source": [
    "data=pd.read_csv(\"/Users/pranitdutta/Downloads/Submission/points.dat.txt\", header=None, dtype=np.float64, delimiter=' ')"
   ]
  },
  {
   "cell_type": "code",
   "execution_count": 7,
   "metadata": {},
   "outputs": [
    {
     "data": {
      "text/plain": [
       "(1000, 2)"
      ]
     },
     "execution_count": 7,
     "metadata": {},
     "output_type": "execute_result"
    }
   ],
   "source": [
    "data.shape"
   ]
  },
  {
   "cell_type": "code",
   "execution_count": 9,
   "metadata": {},
   "outputs": [],
   "source": [
    "data=np.array(data)"
   ]
  },
  {
   "cell_type": "code",
   "execution_count": 10,
   "metadata": {},
   "outputs": [
    {
     "name": "stdout",
     "output_type": "stream",
     "text": [
      "<class 'numpy.ndarray'>\n"
     ]
    }
   ],
   "source": [
    "print(type(data))"
   ]
  },
  {
   "cell_type": "code",
   "execution_count": 11,
   "metadata": {},
   "outputs": [],
   "source": [
    "train, test = data[:int(0.7*len(data))], data[int(0.7*len(data)):]"
   ]
  },
  {
   "cell_type": "code",
   "execution_count": 13,
   "metadata": {},
   "outputs": [],
   "source": [
    "k = 2\n",
    "m1 = np.random.multivariate_normal(np.mean(data, axis=0), np.cov(data.T), size=1).flatten()\n",
    "m2 = np.random.multivariate_normal(np.mean(data, axis=0), np.cov(data.T), size=1).flatten()\n",
    "cov1 = np.cov(data.T)\n",
    "cov2 = np.cov(data.T)\n",
    "initpi = 0.5\n",
    "nIter = 50"
   ]
  },
  {
   "cell_type": "code",
   "execution_count": 14,
   "metadata": {},
   "outputs": [],
   "source": [
    "mu = np.array([m1, m2], np.float64)"
   ]
  },
  {
   "cell_type": "code",
   "execution_count": 16,
   "metadata": {},
   "outputs": [],
   "source": [
    "sigma = np.array([cov1, cov2], np.float64)"
   ]
  },
  {
   "cell_type": "code",
   "execution_count": 17,
   "metadata": {},
   "outputs": [
    {
     "name": "stdout",
     "output_type": "stream",
     "text": [
      "[[[ 7.9328436  -0.10559592]\n",
      "  [-0.10559592  6.2470177 ]]\n",
      "\n",
      " [[ 7.9328436  -0.10559592]\n",
      "  [-0.10559592  6.2470177 ]]]\n"
     ]
    }
   ],
   "source": [
    "print(sigma)"
   ]
  },
  {
   "cell_type": "code",
   "execution_count": 22,
   "metadata": {},
   "outputs": [],
   "source": [
    "def Expectation(data, k, pi, mu, sigma):\n",
    "    mu1=mu[0]\n",
    "    mu2=mu[1]\n",
    "    cov1=sigma[0]\n",
    "    cov2=sigma[1]\n",
    "    mu1.reshape(2,)\n",
    "    mu2.reshape(2,)\n",
    "    \n",
    "    gauss2 = mvn.pdf(data, mean=mu2, cov=cov2)\n",
    "    gauss1 = mvn.pdf(data, mean=mu1, cov=cov1)\n",
    "    w1 = pi * gauss2\n",
    "    w2 = (1-pi) * gauss1\n",
    "    gamma = w1/(w1+w2)\n",
    "    r = np.concatenate([w2.reshape(len(data), 1), w1.reshape(len(data), 1)], axis=1)\n",
    "    r = r / np.sum(r, axis=1, keepdims=True)\n",
    "    return(data, k, gamma,r)"
   ]
  },
  {
   "cell_type": "code",
   "execution_count": 29,
   "metadata": {},
   "outputs": [],
   "source": [
    "def Maximization(data, k, gamma):\n",
    "    \t# Maximization of Means\n",
    "    NumMu1, DenMu1, NumMu2, DenMu2 = 0, 0, 0, 0\n",
    "    for i in range(0,len(data)):\n",
    "        NumMu1 += (1-gamma[i]) * data[i]\n",
    "        DenMu1 += (1-gamma[i])\n",
    "\n",
    "        NumMu2 += gamma[i] * data[i]\n",
    "        DenMu2 += gamma[i]\n",
    "\n",
    "    mu1 = NumMu1/DenMu1\n",
    "    mu2 = NumMu2/DenMu2\n",
    "\n",
    "    # Maximization of Covariances\n",
    "    NumCov1, DenCov1, NumCov2, DenCov2 = 0, 0, 0, 0\n",
    "    \n",
    "    for i in range(0,len(data)):\n",
    "        val1 = np.matrix(data[i]-mu1)\n",
    "        NumCov1 += (1-gamma[i]) * np.dot(val1.T, val1)\n",
    "        DenCov1 += (1-gamma[i])\n",
    "\n",
    "        val2 = np.matrix(data[i]-mu2)\n",
    "        NumCov2 += gamma[i] * np.dot(val2.T, val2)\n",
    "        DenCov2 += gamma[i]\n",
    "\n",
    "    sigma1 = NumCov1/DenCov1\n",
    "    sigma2 = NumCov2/DenCov2\n",
    "\n",
    "    # Maximization of Mixture weights pi\n",
    "    pi = sum(gamma)/len(data)\n",
    "    \n",
    "    return mu1, mu2, sigma1, sigma2, pi"
   ]
  },
  {
   "cell_type": "code",
   "execution_count": 30,
   "metadata": {},
   "outputs": [],
   "source": [
    "def EM(data, k, initpi, mu, sigma, nIter):\n",
    "    for i in range(0,nIter):\n",
    "        x,k,gamma,r = Expectation(data, k, initpi, mu, sigma)\n",
    "        mu1, mu2, sigma1, sigma2, pi = Maximization(data, k, gamma)\n",
    "        mu = np.array([mu1, mu2], np.float64)\n",
    "        sigma = np.array([sigma1, sigma1], np.float64)\n",
    "        initialpi = pi\n",
    "    print('mu')\n",
    "    print(mu)\n",
    "    print('sigma')\n",
    "    print(sigma)\n",
    "    print('pi')\n",
    "    print(initialpi)"
   ]
  },
  {
   "cell_type": "code",
   "execution_count": 31,
   "metadata": {},
   "outputs": [
    {
     "name": "stdout",
     "output_type": "stream",
     "text": [
      "mu\n",
      "[[-1.71090222  0.79402818]\n",
      " [ 0.90997453 -3.25652284]]\n",
      "sigma\n",
      "[[[6.33868697 2.79545334]\n",
      "  [2.79545334 2.49199601]]\n",
      "\n",
      " [[6.33868697 2.79545334]\n",
      "  [2.79545334 2.49199601]]]\n",
      "pi\n",
      "0.33976171243793857\n"
     ]
    }
   ],
   "source": [
    "EM(data, k, initpi, mu, sigma, nIter)"
   ]
  },
  {
   "cell_type": "code",
   "execution_count": null,
   "metadata": {},
   "outputs": [],
   "source": []
  }
 ],
 "metadata": {
  "kernelspec": {
   "display_name": "base",
   "language": "python",
   "name": "python3"
  },
  "language_info": {
   "codemirror_mode": {
    "name": "ipython",
    "version": 3
   },
   "file_extension": ".py",
   "mimetype": "text/x-python",
   "name": "python",
   "nbconvert_exporter": "python",
   "pygments_lexer": "ipython3",
   "version": "3.8.5"
  },
  "orig_nbformat": 4
 },
 "nbformat": 4,
 "nbformat_minor": 2
}
