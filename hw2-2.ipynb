{
 "cells": [
  {
   "attachments": {},
   "cell_type": "markdown",
   "metadata": {},
   "source": [
    "### Name :- Pranit Dutta"
   ]
  },
  {
   "attachments": {},
   "cell_type": "markdown",
   "metadata": {},
   "source": [
    "### CWID :- 20010681"
   ]
  },
  {
   "attachments": {},
   "cell_type": "markdown",
   "metadata": {},
   "source": [
    "### Problem 2"
   ]
  },
  {
   "cell_type": "code",
   "execution_count": 457,
   "metadata": {},
   "outputs": [],
   "source": [
    "import pandas as pd\n",
    "import numpy as np\n",
    "import matplotlib.pyplot as plt\n",
    "from sklearn.model_selection import train_test_split\n",
    "from sklearn.metrics import recall_score, precision_score, accuracy_score"
   ]
  },
  {
   "cell_type": "code",
   "execution_count": 458,
   "metadata": {},
   "outputs": [],
   "source": [
    "data=pd.read_csv(\"wdbc.data\",names=['id', 'type', 'mean radius', 'mean texture', 'mean perimeter', 'mean area', 'mean smoothness', 'mean compactness', 'mean concavity', 'mean concave points', 'mean symmetry', 'mean fractal dimension', 'radius error', 'texture error', 'perimeter error', 'area error', 'smoothness error', 'compactness error', 'concavity error', 'concave points error', 'symmetry error', 'fractal dimension error', 'worst radius', 'worst texture', 'worst perimeter', 'worst area', 'worst smoothness', 'worst compactness', 'worst concavity', 'worst concave points', 'worst symmetry', 'worst fractal dimension'])"
   ]
  },
  {
   "cell_type": "code",
   "execution_count": 459,
   "metadata": {},
   "outputs": [],
   "source": [
    "data=data.drop(['id'],axis=1)"
   ]
  },
  {
   "cell_type": "code",
   "execution_count": 460,
   "metadata": {},
   "outputs": [],
   "source": [
    "data['type'] = data['type'].replace(['M','B'],[0,1])"
   ]
  },
  {
   "cell_type": "code",
   "execution_count": 461,
   "metadata": {},
   "outputs": [],
   "source": [
    "X=data.drop(['type'], axis = 1)\n",
    "y=data['type'].values"
   ]
  },
  {
   "cell_type": "code",
   "execution_count": 462,
   "metadata": {},
   "outputs": [],
   "source": [
    "X=(X - np.min(X))/(np.max(X) - np.min(X)).values"
   ]
  },
  {
   "cell_type": "code",
   "execution_count": 463,
   "metadata": {},
   "outputs": [],
   "source": [
    "x_train, x_test, y_train, y_test = train_test_split(X, y, test_size = 0.20)"
   ]
  },
  {
   "cell_type": "code",
   "execution_count": 464,
   "metadata": {},
   "outputs": [],
   "source": [
    "x_train = x_train.T\n",
    "x_test = x_test.T\n",
    "y_train = y_train.T\n",
    "y_test = y_test.T"
   ]
  },
  {
   "cell_type": "code",
   "execution_count": 465,
   "metadata": {},
   "outputs": [],
   "source": [
    "def compute_costNgradients(w, b, x, y):\n",
    "    \n",
    "    z = np.dot(w.T, x) + b \n",
    "    y_hat = 1/(1 + np.exp(-z))\n",
    "    loss = -np.mean(y * np.log(y_hat) - (1 - y) * np.log(1 - y_hat))\n",
    "    cost = (np.sum(loss)) / x.shape[1] \n",
    "    \n",
    "    # backpropagation\n",
    "    derivative_weight = (np.dot(x, ((y_hat - y).T))) / x.shape[1]\n",
    "    derivative_bias = np.sum(y_hat-y) / x.shape[1]                \n",
    "    gradients = {\"weight\": derivative_weight,\n",
    "                 \"bias\": derivative_bias}\n",
    "    return cost, gradients"
   ]
  },
  {
   "cell_type": "code",
   "execution_count": 466,
   "metadata": {},
   "outputs": [],
   "source": [
    "def SGD(w, b, x_train, y_train, learning_rate, epoch):\n",
    "    cost_list = []\n",
    "    index = []\n",
    " \n",
    "    for i in range(epoch):\n",
    "        # make forward and backward propagation and find cost and gradients\n",
    "        cost, gradients = compute_costNgradients(w, b, x_train, y_train)\n",
    "        cost_list.append(cost)\n",
    "        w = w - learning_rate * gradients[\"weight\"]\n",
    "        b = b - learning_rate * gradients[\"bias\"]\n",
    "        index.append(i)\n",
    "        \n",
    "    parameters = {\"weight\": w, \"bias\": b}\n",
    "    plt.plot(index, cost_list)\n",
    "    plt.xticks(index, rotation ='vertical')\n",
    "    plt.xlabel(\"epoch\")\n",
    "    plt.ylabel(\"Cost\")\n",
    "    plt.show()\n",
    "    return parameters, gradients, cost_list"
   ]
  },
  {
   "cell_type": "code",
   "execution_count": 467,
   "metadata": {},
   "outputs": [],
   "source": [
    "def predict(w, b, x):\n",
    "    # x_test is a input for forward propagation\n",
    "    z = 1/(1 + np.exp(-(np.dot(w.T, x)+b)))\n",
    "    Y_prediction = np.zeros((1, x.shape[1]))\n",
    "    for i in range(z.shape[1]):\n",
    "        if z[0, i]<= 0.5:\n",
    "            Y_prediction[0, i] = 0\n",
    "        else:\n",
    "            Y_prediction[0, i] = 1\n",
    " \n",
    "    return Y_prediction"
   ]
  },
  {
   "cell_type": "code",
   "execution_count": 468,
   "metadata": {},
   "outputs": [],
   "source": [
    "def logistic_regression(w,b,x_train, y_train, x_test, y_test,learning_rate,  epoch):\n",
    " \n",
    "    \n",
    "    \n",
    "    parameters, gradients, cost_list = SGD(w, b, x_train, y_train, learning_rate, epoch)\n",
    "     \n",
    "    y_prediction_test = predict(parameters[\"weight\"], parameters[\"bias\"], x_test)\n",
    "    y_prediction_train = predict(parameters[\"weight\"], parameters[\"bias\"], x_train)\n",
    " \n",
    "    # train / test Errors\n",
    "    print(\"train accuracy: {} %\".format(\n",
    "        100 - np.mean(np.abs(y_prediction_train - y_train)) * 100))\n",
    "    print(\"test accuracy: {} %\".format(\n",
    "        100 - np.mean(np.abs(y_prediction_test - y_test)) * 100))\n",
    "    return(y_prediction_test,y_prediction_train)"
   ]
  },
  {
   "cell_type": "code",
   "execution_count": 469,
   "metadata": {},
   "outputs": [
    {
     "data": {
      "image/png": "[encoded data removed]",
      "text/plain": [
       "<Figure size 432x288 with 1 Axes>"
      ]
     },
     "metadata": {
      "needs_background": "light"
     },
     "output_type": "display_data"
    },
    {
     "name": "stdout",
     "output_type": "stream",
     "text": [
      "train accuracy: 94.72527472527473 %\n",
      "test accuracy: 93.85964912280701 %\n"
     ]
    }
   ],
   "source": [
    "dimension = x_train.shape[0]\n",
    "w = np.full((dimension, 1),0)\n",
    "b = 0.0\n",
    "y_prediction_test,y_prediction_train= logistic_regression(w,b,x_train, y_train, x_test, y_test, learning_rate = 0.09, epoch = 1000)"
   ]
  },
  {
   "cell_type": "code",
   "execution_count": 470,
   "metadata": {},
   "outputs": [
    {
     "name": "stdout",
     "output_type": "stream",
     "text": [
      "For batch size: 100.000000  - \n"
     ]
    },
    {
     "name": "stderr",
     "output_type": "stream",
     "text": [
      "<ipython-input-465-692a40212bba>:5: RuntimeWarning: divide by zero encountered in log\n",
      "  loss = -np.mean(y * np.log(y_hat) - (1 - y) * np.log(1 - y_hat))\n",
      "<ipython-input-465-692a40212bba>:5: RuntimeWarning: invalid value encountered in multiply\n",
      "  loss = -np.mean(y * np.log(y_hat) - (1 - y) * np.log(1 - y_hat))\n"
     ]
    },
    {
     "data": {
      "image/png": "[encoded data removed]",
      "text/plain": [
       "<Figure size 432x288 with 1 Axes>"
      ]
     },
     "metadata": {
      "needs_background": "light"
     },
     "output_type": "display_data"
    },
    {
     "name": "stdout",
     "output_type": "stream",
     "text": [
      "train accuracy: 90.76923076923077 %\n",
      "test accuracy: 92.10526315789474 %\n",
      "For batch size: 500.000000  - \n"
     ]
    },
    {
     "data": {
      "image/png": "[encoded data removed]",
      "text/plain": [
       "<Figure size 432x288 with 1 Axes>"
      ]
     },
     "metadata": {
      "needs_background": "light"
     },
     "output_type": "display_data"
    },
    {
     "name": "stdout",
     "output_type": "stream",
     "text": [
      "train accuracy: 61.75824175824176 %\n",
      "test accuracy: 66.66666666666667 %\n",
      "For batch size: 1000.000000  - \n"
     ]
    },
    {
     "data": {
      "image/png": "[encoded data removed]",
      "text/plain": [
       "<Figure size 432x288 with 1 Axes>"
      ]
     },
     "metadata": {
      "needs_background": "light"
     },
     "output_type": "display_data"
    },
    {
     "name": "stdout",
     "output_type": "stream",
     "text": [
      "train accuracy: 61.75824175824176 %\n",
      "test accuracy: 66.66666666666667 %\n"
     ]
    }
   ],
   "source": [
    "for batch_size in [100,500,1000]:\n",
    "        dimension=x_train.shape[0]\n",
    "        print(\"For batch size: %f  - \" % batch_size)\n",
    "        w = np.full((dimension, 1), 0.0)\n",
    "        w = logistic_regression(w,batch_size,x_train, y_train,x_test, y_test, learning_rate = 0.09, epoch = 1000)"
   ]
  },
  {
   "cell_type": "code",
   "execution_count": null,
   "metadata": {},
   "outputs": [],
   "source": []
  }
 ],
 "metadata": {
  "kernelspec": {
   "display_name": "base",
   "language": "python",
   "name": "python3"
  },
  "language_info": {
   "codemirror_mode": {
    "name": "ipython",
    "version": 3
   },
   "file_extension": ".py",
   "mimetype": "text/x-python",
   "name": "python",
   "nbconvert_exporter": "python",
   "pygments_lexer": "ipython3",
   "version": "3.8.5"
  },
  "orig_nbformat": 4,
  "vscode": {
   "interpreter": {
    "hash": "40d3a090f54c6569ab1632332b64b2c03c39dcf918b08424e98f38b5ae0af88f"
   }
  }
 },
 "nbformat": 4,
 "nbformat_minor": 2
}
